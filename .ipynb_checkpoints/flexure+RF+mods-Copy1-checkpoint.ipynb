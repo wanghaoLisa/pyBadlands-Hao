{
 "cells": [
  {
   "cell_type": "markdown",
   "metadata": {},
   "source": [
    "SINGLE RUN"
   ]
  },
  {
   "cell_type": "code",
   "execution_count": 8,
   "metadata": {},
   "outputs": [],
   "source": [
    "import xml.etree.ElementTree as ET\n",
    "\n",
    "tree = ET.parse('Delta_280218_Te10_notect_wall_SL0.xml')  \n",
    "root = tree.getroot()\n",
    "\n",
    "# changing a field text\n",
    "for elem in root.iter('outfolder'):\n",
    "    for i in range(10,110,10):\n",
    "        # changing a field text\n",
    "        for element in root.iter('elasticH'):  \n",
    "            element.text = str(i)+'.E3'\n",
    "            elem.text = 'Delta_280218_Te10_notect_wall_SL0_'+str(i)\n",
    "            tree.write('./xml/Delta_280218_Te10_notect_wall_SL0_'+str(i)+'.xml')"
   ]
  },
  {
   "cell_type": "code",
   "execution_count": 13,
   "metadata": {
    "scrolled": true
   },
   "outputs": [
    {
     "name": "stdout",
     "output_type": "stream",
     "text": [
      "Delta_280218_Te10_notect_wall_SL0_10.xml\n",
      "   - Writing outputs (0.42 seconds; tNow = 0.0)\n",
      "tNow = 100.0 (0.52 seconds)\n",
      "   - Compute flexural isostasy  4.592875\n",
      "   - Writing outputs (0.31 seconds; tNow = 100.0)\n",
      "Delta_280218_Te10_notect_wall_SL0_100.xml\n",
      "   - Writing outputs (0.42 seconds; tNow = 0.0)\n",
      "tNow = 100.0 (0.52 seconds)\n",
      "   - Compute flexural isostasy  4.574215\n",
      "   - Writing outputs (0.32 seconds; tNow = 100.0)\n",
      "Delta_280218_Te10_notect_wall_SL0_20.xml\n",
      "   - Writing outputs (0.44 seconds; tNow = 0.0)\n",
      "tNow = 100.0 (0.54 seconds)\n",
      "   - Compute flexural isostasy  4.846907\n",
      "   - Writing outputs (0.32 seconds; tNow = 100.0)\n",
      "Delta_280218_Te10_notect_wall_SL0_30.xml\n",
      "   - Writing outputs (0.43 seconds; tNow = 0.0)\n",
      "tNow = 100.0 (0.53 seconds)\n",
      "   - Compute flexural isostasy  4.630272\n",
      "   - Writing outputs (0.31 seconds; tNow = 100.0)\n",
      "Delta_280218_Te10_notect_wall_SL0_40.xml\n",
      "   - Writing outputs (0.43 seconds; tNow = 0.0)\n",
      "tNow = 100.0 (0.53 seconds)\n",
      "   - Compute flexural isostasy  4.813581\n",
      "   - Writing outputs (0.33 seconds; tNow = 100.0)\n",
      "Delta_280218_Te10_notect_wall_SL0_50.xml\n",
      "   - Writing outputs (0.42 seconds; tNow = 0.0)\n",
      "tNow = 100.0 (0.51 seconds)\n",
      "   - Compute flexural isostasy  4.76937\n",
      "   - Writing outputs (0.31 seconds; tNow = 100.0)\n",
      "Delta_280218_Te10_notect_wall_SL0_60.xml\n",
      "   - Writing outputs (0.43 seconds; tNow = 0.0)\n",
      "tNow = 100.0 (0.53 seconds)\n",
      "   - Compute flexural isostasy  4.839051\n",
      "   - Writing outputs (0.35 seconds; tNow = 100.0)\n",
      "Delta_280218_Te10_notect_wall_SL0_70.xml\n",
      "   - Writing outputs (0.43 seconds; tNow = 0.0)\n",
      "tNow = 100.0 (0.52 seconds)\n",
      "   - Compute flexural isostasy  4.60187\n",
      "   - Writing outputs (0.31 seconds; tNow = 100.0)\n",
      "Delta_280218_Te10_notect_wall_SL0_80.xml\n",
      "   - Writing outputs (0.44 seconds; tNow = 0.0)\n",
      "tNow = 100.0 (0.53 seconds)\n",
      "   - Compute flexural isostasy  4.63772\n",
      "   - Writing outputs (0.31 seconds; tNow = 100.0)\n",
      "Delta_280218_Te10_notect_wall_SL0_90.xml\n",
      "   - Writing outputs (0.43 seconds; tNow = 0.0)\n",
      "tNow = 100.0 (0.53 seconds)\n",
      "   - Compute flexural isostasy  4.628847\n",
      "   - Writing outputs (0.31 seconds; tNow = 100.0)\n"
     ]
    }
   ],
   "source": [
    "from pyBadlands.model import Model as badlandsModel\n",
    "import os\n",
    "\n",
    "# Define the XmL input file\n",
    "for filename in os.listdir('./xml'):\n",
    "    print(filename)\n",
    "    # initialise model\n",
    "    model = badlandsModel()\n",
    "    model.load_xml('./xml/'+filename)\n",
    "    model.run_to_time(100)"
   ]
  },
  {
   "cell_type": "markdown",
   "metadata": {},
   "source": [
    "## Running pyBadlands\n",
    "\n",
    "We can run the model for a given period. The end time in the **XmL** input file is set to _1 Ma_ but you might want to run the model for a coupled of iterations and check the output before running the model for the entire simulation time. This is done by putting the time in the **run_to_time** function. \n",
    "\n",
    "Here we go for the full time directly... it should take less than 5 minutes on a single processor depending of the applied scenario if you keep the other parameters unchanged. "
   ]
  },
  {
   "cell_type": "code",
   "execution_count": null,
   "metadata": {
    "collapsed": true,
    "scrolled": false
   },
   "outputs": [],
   "source": [
    "# model.run_to_time(1000000)"
   ]
  },
  {
   "cell_type": "markdown",
   "metadata": {},
   "source": [
    "# Visualise in Paraview\n",
    "\n",
    "For an in-depth visualisation of the model output it is recommended to install on your local machine a visualisation package such as [Paraview](http://www.paraview.org) or [Visit](https://wci.llnl.gov/simulation/computer-codes/visit/).\n",
    "\n",
    "**Badlands** outputs are created in the directory you've specified in your **XmL** input file. In cases where you have ran several instances of the same input you will end up with multiple directories with the same name followed with the simulation number.\n",
    "\n",
    "The folder contains xdmf series files:\n",
    "+ **tin.series.xdmf** which will display the time series of surface evolution.\n",
    "+ **flow.series.xdmf** which will display the time series of drainage network evolution.\n",
    "\n",
    "\n",
    "### Elevation change\n",
    "\n",
    "\n",
    "| Time step 25| Time step 50 | \n",
    "| :-------------: |:-------------:|\n",
    "| <img src=\"images/step25.png\" alt=\"Step 25\" width=\"490\" height=\"400\" border=\"5\" />| <img src=\"images/step50.png\" alt=\"Step 50\" width=\"490\" height=\"400\" border=\"5\" /> | \n",
    "\n",
    "\n",
    "\n",
    "### Cumulative flexural isostasy\n",
    "\n",
    "<div align=\"center\">\n",
    "    <img src=\"images/flex.png\" alt=\"flexural isostasy\" width=\"1000\" height=\"800\"/>\n",
    "</div>"
   ]
  },
  {
   "cell_type": "code",
   "execution_count": null,
   "metadata": {
    "collapsed": true
   },
   "outputs": [],
   "source": []
  }
 ],
 "metadata": {
  "kernelspec": {
   "display_name": "Python 2",
   "language": "python",
   "name": "python2"
  },
  "language_info": {
   "codemirror_mode": {
    "name": "ipython",
    "version": 3
   },
   "file_extension": ".py",
   "mimetype": "text/x-python",
   "name": "python",
   "nbconvert_exporter": "python",
   "pygments_lexer": "ipython3",
   "version": "3.7.0"
  }
 },
 "nbformat": 4,
 "nbformat_minor": 1
}
