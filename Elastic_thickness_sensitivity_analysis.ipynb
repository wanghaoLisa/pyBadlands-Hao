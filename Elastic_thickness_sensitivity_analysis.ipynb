{
 "cells": [
  {
   "cell_type": "markdown",
   "metadata": {},
   "source": [
    "# This notebook performs a sensitity analysis by systematically increasing the elastic thickness in a given xml "
   ]
  },
  {
   "cell_type": "code",
   "execution_count": null,
   "metadata": {},
   "outputs": [],
   "source": [
    "#Generating a series of xmls where the output and the elastic thickness changes in 10km intervals\n",
    "import xml.etree.ElementTree as ET\n",
    "\n",
    "tree = ET.parse('Delta_280218_Te10_notect_wall_SL0.xml')# Add xml name to be changed  \n",
    "root = tree.getroot()\n",
    "\n",
    "for elem in root.iter('outfolder'):\n",
    "    for i in range(10,110,10): \n",
    "        # changing a field text\n",
    "        for element in root.iter('elasticH'):  \n",
    "            element.text = str(i)+'.E3'\n",
    "            elem.text = 'Delta_280218_Te10_notect_wall_SL0_'+str(i)\n",
    "            tree.write('./xml/Delta_280218_Te10_notect_wall_SL0_'+str(i)+'.xml')"
   ]
  },
  {
   "cell_type": "code",
   "execution_count": null,
   "metadata": {
    "scrolled": true
   },
   "outputs": [],
   "source": [
    "#Running all the xml files in a given folder\n",
    "from pyBadlands.model import Model as badlandsModel\n",
    "import os\n",
    "\n",
    "# Define the XmL input file\n",
    "for filename in os.listdir('./xml'):\n",
    "    print(filename)\n",
    "    # initialise model\n",
    "    model = badlandsModel()\n",
    "    model.load_xml('./xml/'+filename)\n",
    "    model.run_to_time(100) #the model for a given time"
   ]
  }
 ],
 "metadata": {
  "kernelspec": {
   "display_name": "Python 3",
   "language": "python",
   "name": "python3"
  },
  "language_info": {
   "codemirror_mode": {
    "name": "ipython",
    "version": 3
   },
   "file_extension": ".py",
   "mimetype": "text/x-python",
   "name": "python",
   "nbconvert_exporter": "python",
   "pygments_lexer": "ipython3",
   "version": "3.7.0"
  }
 },
 "nbformat": 4,
 "nbformat_minor": 1
}
